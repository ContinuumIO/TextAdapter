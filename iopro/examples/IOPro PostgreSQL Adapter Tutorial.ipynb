{
 "cells": [
  {
   "cell_type": "markdown",
   "metadata": {},
   "source": [
    "The following is a tutorial on using the new IOPro PostgreSQL/PostGIS/Greenplum adapter. In order to run this notebook, you'll need a running PostgreSQL server with PostGIS extensions installed. Otherwise you can simply follow along with the saved example results. All the examples here were tested with Python 3.5, but they should also work with Python 2.7"
   ]
  },
  {
   "cell_type": "markdown",
   "metadata": {},
   "source": [
    "First we need to generate some test data. Since IOPro only supports pulling data from data sources, we'll use the Python module psycopg2 to create and populate a new table. The connection parameters will need to be changed to run this for your own PostgreSQL server (preferably a non production server!). The following example will create a new database called 'iopro_tutorial'. If a database already exists with that name, it will be destroyed."
   ]
  },
  {
   "cell_type": "code",
   "execution_count": 51,
   "metadata": {
    "collapsed": false
   },
   "outputs": [],
   "source": [
    "import psycopg2\n",
    "from psycopg2.extensions import ISOLATION_LEVEL_AUTOCOMMIT\n",
    "\n",
    "conn = psycopg2.connect('host=localhost dbname=postgres user=jayvius')\n",
    "\n",
    "# A new database cannot be created inside a transaction block,\n",
    "# so enable autocommit\n",
    "conn.set_isolation_level(ISOLATION_LEVEL_AUTOCOMMIT)\n",
    "\n",
    "# Use a try/except block to guard against existing database\n",
    "# with same name. If database already exists, drop it and\n",
    "# create new one.\n",
    "cursor = conn.cursor()\n",
    "try:\n",
    "    cursor.execute('CREATE DATABASE iopro_tutorial')\n",
    "except psycopg2.ProgrammingError:\n",
    "    cursor.execute('DROP DATABASE iopro_tutorial')\n",
    "    cursor.execute('CREATE DATABASE iopro_tutorial')\n",
    "cursor.close()\n",
    "conn.close()\n",
    "\n",
    "conn = psycopg2.connect('host=localhost dbname=iopro_tutorial user=jayvius')\n",
    "        \n",
    "cursor = conn.cursor()\n",
    "\n",
    "# Enable PostGIS extensions for this database\n",
    "cursor.execute('CREATE EXTENSION postgis')\n",
    "cursor.execute('CREATE EXTENSION postgis_topology')\n",
    "cursor.execute('CREATE EXTENSION fuzzystrmatch')\n",
    "cursor.execute('CREATE EXTENSION postgis_tiger_geocoder')\n",
    "\n",
    "cursor.execute('CREATE TABLE data (integer integer, '\n",
    "                                  'real real, '\n",
    "                                  'string varchar(10), '\n",
    "                                  'point2d geometry(POINT), '\n",
    "                                  'multipoint3d geometry(MULTIPOINTZ))')\n",
    "cursor.execute(\"INSERT INTO data (integer, real, string, point2d, multipoint3d) VALUES \"\n",
    "               \"(1, 1.1, 'a', ST_MakePoint(0, 1), ST_Collect(ARRAY[ST_MakePoint(0, 1, 2), ST_MakePoint(3, 4, 5)]))\")\n",
    "cursor.execute(\"INSERT INTO data (integer, real, string, point2d, multipoint3d) VALUES \"\n",
    "               \"(2, 2.2, 'bbb', ST_MakePoint(2, 3), ST_Collect(ARRAY[ST_MakePoint(6, 7, 8), ST_MakePoint(9, 10, 11)]))\")\n",
    "cursor.execute(\"INSERT INTO data (integer, real, string, point2d, multipoint3d) VALUES \"\n",
    "               \"(3, 3.3, 'cccccc', ST_MakePoint(4, 5), ST_Collect(ARRAY[ST_MakePoint(12, 13, 14), ST_MakePoint(15, 16, 17)]))\")\n",
    "cursor.execute(\"INSERT INTO data (integer, real, string, point2d, multipoint3d) VALUES \"\n",
    "               \"(4, 4.4, 'ddddddddd', ST_MakePoint(6, 7), ST_Collect(ARRAY[ST_MakePoint(18, 19, 20), ST_MakePoint(21, 22, 23)]))\")\n",
    "cursor.execute(\"INSERT INTO data (integer, real, string, point2d, multipoint3d) VALUES \"\n",
    "               \"(5, 5.5, 'eeeeeeeeee', ST_MakePoint(8, 9), ST_Collect(ARRAY[ST_MakePoint(24, 25, 26), ST_MakePoint(27, 28, 29)]))\")\n",
    "\n",
    "conn.commit()\n",
    "cursor.close()\n",
    "conn.close()"
   ]
  },
  {
   "cell_type": "markdown",
   "metadata": {},
   "source": [
    "Now we can start using IOPro. First we'll create a new PostgreSQL adapter for the table we created above."
   ]
  },
  {
   "cell_type": "code",
   "execution_count": 2,
   "metadata": {
    "collapsed": false
   },
   "outputs": [],
   "source": [
    "import iopro\n",
    "adapter = iopro.PostgresAdapter('host=localhost dbname=iopro_tutorial user=jayvius', table='data')"
   ]
  },
  {
   "cell_type": "markdown",
   "metadata": {},
   "source": [
    "IOPro adapters use slicing to retrieve data. To retrieve all records from the 'data' table, the standard NumPy slicing notation can be used:"
   ]
  },
  {
   "cell_type": "code",
   "execution_count": 2,
   "metadata": {
    "collapsed": false
   },
   "outputs": [
    {
     "data": {
      "text/plain": [
       "array([ (1, 1.100000023841858, 'a', [0.0, 1.0], [(0.0, 1.0, 2.0), (3.0, 4.0, 5.0)]),\n",
       "       (2, 2.200000047683716, 'bbb', [2.0, 3.0], [(6.0, 7.0, 8.0), (9.0, 10.0, 11.0)]),\n",
       "       (3, 3.299999952316284, 'cccccc', [4.0, 5.0], [(12.0, 13.0, 14.0), (15.0, 16.0, 17.0)]),\n",
       "       (4, 4.400000095367432, 'ddddddddd', [6.0, 7.0], [(18.0, 19.0, 20.0), (21.0, 22.0, 23.0)]),\n",
       "       (5, 5.5, 'eeeeeeeeee', [8.0, 9.0], [(24.0, 25.0, 26.0), (27.0, 28.0, 29.0)])], \n",
       "      dtype=[('integer', '<i4'), ('real', '<f4'), ('string', '<U10'), ('point2d', '<f8', (2,)), ('multipoint3d', 'O')])"
      ]
     },
     "execution_count": 2,
     "metadata": {},
     "output_type": "execute_result"
    }
   ],
   "source": [
    "adapter[:]"
   ]
  },
  {
   "cell_type": "markdown",
   "metadata": {},
   "source": [
    "Notice that the point2d GIS type is stored as two real values. Also notice that the multipoint3d GIS type is stored as a list of tuples of three real values, since the number of 3d points can vary with each record."
   ]
  },
  {
   "cell_type": "markdown",
   "metadata": {},
   "source": [
    "The PostgreSQL adapter has a few properties that we can use to find out more about our data. We can get the number of records in our dataset:"
   ]
  },
  {
   "cell_type": "code",
   "execution_count": 3,
   "metadata": {
    "collapsed": false
   },
   "outputs": [
    {
     "data": {
      "text/plain": [
       "5"
      ]
     },
     "execution_count": 3,
     "metadata": {},
     "output_type": "execute_result"
    }
   ],
   "source": [
    "adapter.num_records"
   ]
  },
  {
   "cell_type": "markdown",
   "metadata": {},
   "source": [
<<<<<<< HEAD
    "or the number of ***REMOVED***"
=======
    "or the number of fields:"
>>>>>>> 14dcbb9542f8d05344fd4a2cc4ef07c47528a8f1
   ]
  },
  {
   "cell_type": "code",
   "execution_count": 4,
   "metadata": {
    "collapsed": false
   },
   "outputs": [
    {
     "data": {
      "text/plain": [
       "5"
      ]
     },
     "execution_count": 4,
     "metadata": {},
     "output_type": "execute_result"
    }
   ],
   "source": [
    "adapter.num_fields"
   ]
  },
  {
   "cell_type": "markdown",
   "metadata": {},
   "source": [
    "We can also find the names of each field:"
   ]
  },
  {
   "cell_type": "code",
   "execution_count": 5,
   "metadata": {
    "collapsed": false
   },
   "outputs": [
    {
     "data": {
      "text/plain": [
       "['integer', 'real', 'string', 'point2d', 'multipoint3d']"
      ]
     },
     "execution_count": 5,
     "metadata": {},
     "output_type": "execute_result"
    }
   ],
   "source": [
    "adapter.field_names"
   ]
  },
  {
   "cell_type": "markdown",
   "metadata": {},
   "source": [
    "These names come from the names of the columns in the database and are used by default for the field names in our NumPy array result. We can change these names by setting the field_names property using a list of field names:"
   ]
  },
  {
   "cell_type": "code",
   "execution_count": 6,
   "metadata": {
    "collapsed": false
   },
   "outputs": [
    {
     "data": {
      "text/plain": [
       "dtype([('field1', '<i4'), ('field2', '<f4'), ('field3', '<U10'), ('field4', '<f8', (2,)), ('field5', 'O')])"
      ]
     },
     "execution_count": 6,
     "metadata": {},
     "output_type": "execute_result"
    }
   ],
   "source": [
    "adapter.field_names = ['field1', 'field2', 'field3', 'field4', 'field5']\n",
    "adapter[:].dtype"
   ]
  },
  {
   "cell_type": "markdown",
   "metadata": {
    "collapsed": false
   },
   "source": [
    "We can also set individual fields by using a dict, where the key is the field number and the value is the field name we want:"
   ]
  },
  {
   "cell_type": "code",
   "execution_count": 7,
   "metadata": {
    "collapsed": false
   },
   "outputs": [
    {
     "data": {
      "text/plain": [
       "dtype([('integer', '<i4'), ('AAA', '<f4'), ('string', '<U10'), ('point2d', '<f8', (2,)), ('multipoint3d', 'O')])"
      ]
     },
     "execution_count": 7,
     "metadata": {},
     "output_type": "execute_result"
    }
   ],
   "source": [
    "adapter.field_names = {1: 'AAA'}\n",
    "adapter[:].dtype"
   ]
  },
  {
   "cell_type": "markdown",
   "metadata": {},
   "source": [
    "We can also find out the NumPy dtype of each field:"
   ]
  },
  {
   "cell_type": "code",
   "execution_count": 8,
   "metadata": {
    "collapsed": false
   },
   "outputs": [
    {
     "data": {
      "text/plain": [
       "['i4', 'f4', 'U10', 'f8', 'O']"
      ]
     },
     "execution_count": 8,
     "metadata": {},
     "output_type": "execute_result"
    }
   ],
   "source": [
    "adapter.field_types"
   ]
  },
  {
   "cell_type": "markdown",
   "metadata": {},
   "source": [
    "Similar to the field_names property, we can set this property using a list or dict to force a field to be cast to a specific type:"
   ]
  },
  {
   "cell_type": "code",
   "execution_count": 9,
   "metadata": {
    "collapsed": false
   },
   "outputs": [
    {
     "data": {
      "text/plain": [
       "array([(1.0, 1, 'a', [0.0, 1.0], [(0.0, 1.0, 2.0), (3.0, 4.0, 5.0)]),\n",
       "       (2.0, 2, 'bbb', [2.0, 3.0], [(6.0, 7.0, 8.0), (9.0, 10.0, 11.0)]),\n",
       "       (3.0, 3, 'ccc', [4.0, 5.0], [(12.0, 13.0, 14.0), (15.0, 16.0, 17.0)]),\n",
       "       (4.0, 4, 'ddd', [6.0, 7.0], [(18.0, 19.0, 20.0), (21.0, 22.0, 23.0)]),\n",
       "       (5.0, 5, 'eee', [8.0, 9.0], [(24.0, 25.0, 26.0), (27.0, 28.0, 29.0)])], \n",
       "      dtype=[('integer', '<f4'), ('AAA', '<i4'), ('string', '<U3'), ('point2d', '<f8', (2,)), ('multipoint3d', 'O')])"
      ]
     },
     "execution_count": 9,
     "metadata": {},
     "output_type": "execute_result"
    }
   ],
   "source": [
    "adapter.field_types = {0: 'f4', 1: 'i4', 2: 'U3', 4: 'O'}\n",
    "adapter[:]"
   ]
  },
  {
   "cell_type": "markdown",
   "metadata": {},
   "source": [
    "Notice that the integer field has been cast to a float field, the float field has been cast to an integer field, and the string field has been cast from 10 characters to 3 characters resulting in truncation."
   ]
  },
  {
   "cell_type": "markdown",
   "metadata": {},
   "source": [
    "IOPro adapters support all the basic slicing features. For example, to retrieve the first three records:"
   ]
  },
  {
   "cell_type": "code",
   "execution_count": 11,
   "metadata": {
    "collapsed": false
   },
   "outputs": [
    {
     "data": {
      "text/plain": [
       "array([(1.0, 1, 'a', [0.0, 1.0], [(0.0, 1.0, 2.0), (3.0, 4.0, 5.0)]),\n",
       "       (2.0, 2, 'bbb', [2.0, 3.0], [(6.0, 7.0, 8.0), (9.0, 10.0, 11.0)]),\n",
       "       (3.0, 3, 'ccc', [4.0, 5.0], [(12.0, 13.0, 14.0), (15.0, 16.0, 17.0)])], \n",
       "      dtype=[('integer', '<f4'), ('AAA', '<i4'), ('string', '<U3'), ('point2d', '<f8', (2,)), ('multipoint3d', 'O')])"
      ]
     },
     "execution_count": 11,
     "metadata": {},
     "output_type": "execute_result"
    }
   ],
   "source": [
    "adapter[0:3]"
   ]
  },
  {
   "cell_type": "markdown",
   "metadata": {},
   "source": [
    "retrieve the last record:"
   ]
  },
  {
   "cell_type": "code",
   "execution_count": 12,
   "metadata": {
    "collapsed": false
   },
   "outputs": [
    {
     "data": {
      "text/plain": [
       "array([(5.0, 5, 'eee', [8.0, 9.0], [(24.0, 25.0, 26.0), (27.0, 28.0, 29.0)])], \n",
       "      dtype=[('integer', '<f4'), ('AAA', '<i4'), ('string', '<U3'), ('point2d', '<f8', (2,)), ('multipoint3d', 'O')])"
      ]
     },
     "execution_count": 12,
     "metadata": {},
     "output_type": "execute_result"
    }
   ],
   "source": [
    "adapter[-1]"
   ]
  },
  {
   "cell_type": "markdown",
   "metadata": {},
   "source": [
    "retrieve every other record from the first four records:"
   ]
  },
  {
   "cell_type": "code",
   "execution_count": 13,
   "metadata": {
    "collapsed": false
   },
   "outputs": [
    {
     "data": {
      "text/plain": [
       "array([(1.0, 1, 'a', [0.0, 1.0], [(0.0, 1.0, 2.0), (3.0, 4.0, 5.0)]),\n",
       "       (3.0, 3, 'ccc', [4.0, 5.0], [(12.0, 13.0, 14.0), (15.0, 16.0, 17.0)])], \n",
       "      dtype=[('integer', '<f4'), ('AAA', '<i4'), ('string', '<U3'), ('point2d', '<f8', (2,)), ('multipoint3d', 'O')])"
      ]
     },
     "execution_count": 13,
     "metadata": {},
     "output_type": "execute_result"
    }
   ],
   "source": [
    "adapter[0:4:2]"
   ]
  },
  {
   "cell_type": "markdown",
   "metadata": {},
   "source": [
    "We can also filter the fields that we want to retrieve by passing a list of field names to the constructor:"
   ]
  },
  {
   "cell_type": "code",
   "execution_count": 14,
   "metadata": {
    "collapsed": false
   },
   "outputs": [
    {
     "data": {
      "text/plain": [
       "array([(1, 'a'), (2, 'bbb'), (3, 'cccccc'), (4, 'ddddddddd'),\n",
       "       (5, 'eeeeeeeeee')], \n",
       "      dtype=[('integer', '<i4'), ('string', '<U10')])"
      ]
     },
     "execution_count": 14,
     "metadata": {},
     "output_type": "execute_result"
    }
   ],
   "source": [
    "adapter = iopro.PostgresAdapter('host=localhost dbname=iopro_tutorial user=jayvius',\n",
    "                                table='data',\n",
    "                                field_filter=['integer', 'string'])\n",
    "adapter[:]"
   ]
  },
  {
   "cell_type": "markdown",
   "metadata": {},
   "source": [
    "For fields like multipoint3d with a variable length, the adapter will return values as a list of tuples containing the float components of each point. For improved performance, a field shape can be specified which will set the max dimensions of the field values. For example, for our multipoint3d field we can it to have a maximum of two points so that each set of 3d points will be stored in a 2x3 subarray of floats:"
   ]
  },
  {
   "cell_type": "code",
   "execution_count": 13,
   "metadata": {
    "collapsed": false
   },
   "outputs": [
    {
     "data": {
      "text/plain": [
       "array([([[0.0, 1.0, 2.0], [3.0, 4.0, 5.0]],),\n",
       "       ([[6.0, 7.0, 8.0], [9.0, 10.0, 11.0]],),\n",
       "       ([[12.0, 13.0, 14.0], [15.0, 16.0, 17.0]],),\n",
       "       ([[18.0, 19.0, 20.0], [21.0, 22.0, 23.0]],),\n",
       "       ([[24.0, 25.0, 26.0], [27.0, 28.0, 29.0]],)], \n",
       "      dtype=[('multipoint3d', '<f8', (2, 3))])"
      ]
     },
     "execution_count": 13,
     "metadata": {},
     "output_type": "execute_result"
    }
   ],
   "source": [
    "adapter = iopro.PostgresAdapter('host=localhost dbname=iopro_tutorial user=jayvius',\n",
    "                                table='data',\n",
    "                                field_filter=['multipoint3d'],\n",
    "                                field_shapes={'multipoint3d': 2})\n",
    "adapter[:]"
   ]
  },
  {
   "cell_type": "markdown",
   "metadata": {},
   "source": [
    "For more advanced queries, a custom select query can be passed to the constructor. Either a table name or a custom query can be passed to the constructor, but not both."
   ]
  },
  {
   "cell_type": "code",
   "execution_count": 14,
   "metadata": {
    "collapsed": false
   },
   "outputs": [
    {
     "data": {
      "text/plain": [
       "array([(3, 'cccccc'), (4, 'ddddddddd'), (5, 'eeeeeeeeee')], \n",
       "      dtype=[('integer', '<i4'), ('string', '<U10')])"
      ]
     },
     "execution_count": 14,
     "metadata": {},
     "output_type": "execute_result"
    }
   ],
   "source": [
    "adapter = iopro.PostgresAdapter('host=localhost dbname=iopro_tutorial user=jayvius',\n",
    "                                query='select integer, string from data where data.integer > 2')\n",
    "adapter[:]"
   ]
  },
  {
   "cell_type": "markdown",
   "metadata": {},
   "source": [
    "Data can also be returned as a pandas dataframe using the adapter constructor's 'dataframe' argument:"
   ]
  },
  {
   "cell_type": "code",
   "execution_count": 15,
   "metadata": {
    "collapsed": false
   },
   "outputs": [
    {
     "data": {
      "text/html": [
       "<div>\n",
       "<table border=\"1\" class=\"dataframe\">\n",
       "  <thead>\n",
       "    <tr style=\"text-align: right;\">\n",
       "      <th></th>\n",
       "      <th>integer</th>\n",
       "      <th>real</th>\n",
       "      <th>string</th>\n",
       "      <th>point2d</th>\n",
       "      <th>multipoint3d</th>\n",
       "    </tr>\n",
       "  </thead>\n",
       "  <tbody>\n",
       "    <tr>\n",
       "      <th>0</th>\n",
       "      <td>1</td>\n",
       "      <td>1.1</td>\n",
       "      <td>a</td>\n",
       "      <td>[(0.0, 1.0)]</td>\n",
       "      <td>[(0.0, 1.0, 2.0), (3.0, 4.0, 5.0)]</td>\n",
       "    </tr>\n",
       "    <tr>\n",
       "      <th>1</th>\n",
       "      <td>2</td>\n",
       "      <td>2.2</td>\n",
       "      <td>bbb</td>\n",
       "      <td>[(2.0, 3.0)]</td>\n",
       "      <td>[(6.0, 7.0, 8.0), (9.0, 10.0, 11.0)]</td>\n",
       "    </tr>\n",
       "    <tr>\n",
       "      <th>2</th>\n",
       "      <td>3</td>\n",
       "      <td>3.3</td>\n",
       "      <td>cccccc</td>\n",
       "      <td>[(4.0, 5.0)]</td>\n",
       "      <td>[(12.0, 13.0, 14.0), (15.0, 16.0, 17.0)]</td>\n",
       "    </tr>\n",
       "    <tr>\n",
       "      <th>3</th>\n",
       "      <td>4</td>\n",
       "      <td>4.4</td>\n",
       "      <td>ddddddddd</td>\n",
       "      <td>[(6.0, 7.0)]</td>\n",
       "      <td>[(18.0, 19.0, 20.0), (21.0, 22.0, 23.0)]</td>\n",
       "    </tr>\n",
       "    <tr>\n",
       "      <th>4</th>\n",
       "      <td>5</td>\n",
       "      <td>5.5</td>\n",
       "      <td>eeeeeeeeee</td>\n",
       "      <td>[(8.0, 9.0)]</td>\n",
       "      <td>[(24.0, 25.0, 26.0), (27.0, 28.0, 29.0)]</td>\n",
       "    </tr>\n",
       "  </tbody>\n",
       "</table>\n",
       "</div>"
      ],
      "text/plain": [
       "   integer  real      string       point2d  \\\n",
       "0        1   1.1           a  [(0.0, 1.0)]   \n",
       "1        2   2.2         bbb  [(2.0, 3.0)]   \n",
       "2        3   3.3      cccccc  [(4.0, 5.0)]   \n",
       "3        4   4.4   ddddddddd  [(6.0, 7.0)]   \n",
       "4        5   5.5  eeeeeeeeee  [(8.0, 9.0)]   \n",
       "\n",
       "                               multipoint3d  \n",
       "0        [(0.0, 1.0, 2.0), (3.0, 4.0, 5.0)]  \n",
       "1      [(6.0, 7.0, 8.0), (9.0, 10.0, 11.0)]  \n",
       "2  [(12.0, 13.0, 14.0), (15.0, 16.0, 17.0)]  \n",
       "3  [(18.0, 19.0, 20.0), (21.0, 22.0, 23.0)]  \n",
       "4  [(24.0, 25.0, 26.0), (27.0, 28.0, 29.0)]  "
      ]
     },
     "execution_count": 15,
     "metadata": {},
     "output_type": "execute_result"
    }
   ],
   "source": [
    "adapter = iopro.PostgresAdapter('host=localhost dbname=iopro_tutorial user=jayvius',\n",
    "                                table='data',\n",
    "                                dataframe=True)\n",
    "adapter[:]"
   ]
  },
  {
   "cell_type": "markdown",
   "metadata": {},
   "source": [
    "For one last example, we're use the adapter constructor's query argument to retrieve some PostGIS data that falls within a given bounding box:"
   ]
  },
  {
   "cell_type": "code",
   "execution_count": 16,
   "metadata": {
    "collapsed": false
   },
   "outputs": [
    {
     "data": {
      "text/plain": [
       "array([(1, [0.0, 1.0]), (2, [2.0, 3.0])], \n",
       "      dtype=[('integer', '<i4'), ('point2d', '<f8', (2,))])"
      ]
     },
     "execution_count": 16,
     "metadata": {},
     "output_type": "execute_result"
    }
   ],
   "source": [
    "adapter = iopro.PostgresAdapter('host=localhost dbname=iopro_tutorial user=jayvius',\n",
    "                                query='select integer, point2d from data '\n",
    "                                      'where data.point2d @ ST_MakeEnvelope(0, 0, 4, 4)')\n",
    "adapter[:]"
   ]
  },
  {
   "cell_type": "code",
   "execution_count": 17,
   "metadata": {
    "collapsed": false
   },
   "outputs": [],
   "source": [
    "# Force database connection to close\n",
    "del adapter"
   ]
  },
  {
   "cell_type": "code",
   "execution_count": null,
   "metadata": {
    "collapsed": true
   },
   "outputs": [],
   "source": []
  }
 ],
 "metadata": {
  "kernelspec": {
   "display_name": "Python 3",
   "language": "python",
   "name": "python3"
  },
  "language_info": {
   "codemirror_mode": {
    "name": "ipython",
    "version": 3
   },
   "file_extension": ".py",
   "mimetype": "text/x-python",
   "name": "python",
   "nbconvert_exporter": "python",
   "pygments_lexer": "ipython3",
   "version": "3.4.4"
  }
 },
 "nbformat": 4,
 "nbformat_minor": 0
}
